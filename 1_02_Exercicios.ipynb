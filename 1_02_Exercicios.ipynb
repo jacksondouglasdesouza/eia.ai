{
  "nbformat": 4,
  "nbformat_minor": 0,
  "metadata": {
    "colab": {
      "provenance": [],
      "authorship_tag": "ABX9TyOEfnE8bOmGIj4lwHy/Gcuc",
      "include_colab_link": true
    },
    "kernelspec": {
      "name": "python3",
      "display_name": "Python 3"
    },
    "language_info": {
      "name": "python"
    }
  },
  "cells": [
    {
      "cell_type": "markdown",
      "metadata": {
        "id": "view-in-github",
        "colab_type": "text"
      },
      "source": [
        "<a href=\"https://colab.research.google.com/github/jacksondouglasdesouza/eia.ai/blob/master/1_02_Exercicios.ipynb\" target=\"_parent\"><img src=\"https://colab.research.google.com/assets/colab-badge.svg\" alt=\"Open In Colab\"/></a>"
      ]
    },
    {
      "cell_type": "markdown",
      "source": [
        "**Habilitação para vaga de Emprego**\n",
        "\n",
        "Para se habilitar a vaga de emprego, o candidato deve cumprir pelo menos um dos requisitod abaixo:\n",
        "\n",
        "* SE menos de 70 anos; Ter no mínimo 25 anos de atividade profissional;\n",
        "* SE tiver mais de 70 anos, é preciso ter ao menos 30 anos de profissão.\n",
        "\n",
        "---\n",
        "\n",
        "lEIA AS INFORMAÇÕES:\n",
        "\n",
        "Deve receber dados inteiros;\n",
        "Printar se candidato está apto ou não para vaga de developer.\n",
        "\n",
        "let's GO!\n",
        "\n",
        "\n"
      ],
      "metadata": {
        "id": "7vdAayA08LHG"
      }
    },
    {
      "cell_type": "code",
      "execution_count": 14,
      "metadata": {
        "id": "iHGjitU070xj",
        "colab": {
          "base_uri": "https://localhost:8080/"
        },
        "outputId": "90d22d6f-ba51-4664-86b1-269348e2eeec"
      },
      "outputs": [
        {
          "output_type": "stream",
          "name": "stdout",
          "text": [
            "Digite sua idade: 72\n",
            "Quanto dempo de profissão: 30\n",
            "Você está aprovado para a vaga!\n"
          ]
        }
      ],
      "source": [
        "idadeCandidato = int(input(\"Digite sua idade: \"))\n",
        "tempoProfissao = int(input(\"Quanto dempo de profissão: \"))\n",
        "\n",
        "if (idadeCandidato < 70 and tempoProfissao >= 25):\n",
        "  print(\"Você está aprovado para a vaga!\")\n",
        "elif (idadeCandidato >= 70 and tempoProfissao >= 30):\n",
        "  print(\"Você está aprovado para a vaga!\")\n",
        "else:\n",
        "  print(\"Você não está qualificado para vaga!\")\n",
        "\n",
        "#--"
      ]
    },
    {
      "cell_type": "markdown",
      "source": [
        "**Leitura da nota de Aluno**\n",
        "\n",
        "\n",
        "\n",
        "* Receber a nota do aluno;\n",
        "* SE nota maior ou igual 7, APROVADO;\n",
        "* SE nota menor que 7, ALUNO ENTROU EM RECUPERAÇÃO;\n",
        "* SE em recuperação e nota menor que 7:\n",
        "  Nota aluno + nota recuperação / 2, forem menor que 6. ALUNO REPROVADO\n",
        "\n",
        "---\n",
        "\n",
        "let's GO!"
      ],
      "metadata": {
        "id": "MKteBVo0E70J"
      }
    },
    {
      "cell_type": "code",
      "source": [
        "estaDeRecuperacao = input(\" Você está de Recuperação? \")\n",
        "notaAluno = float(input(\" Insira sua nota: \"))\n",
        "\n",
        "if notaAluno >= 7:\n",
        "  print(\"Você está Aprovado! \")\n",
        "\n",
        "elif notaAluno < 7 and estaDeRecuperacao == \"Sim\":\n",
        "  notaRecuperacao = float(input(\"Digite sua nota de Recuperação: \"))\n",
        "  novaNotaAluno = (notaAluno + notaRecuperacao) / 2\n",
        "  #--\n",
        "  if novaNotaAluno > 7:\n",
        "    print(\"Você foi aprovado na Recuperação!\")\n",
        "  else:\n",
        "    print(\"Você está reprovado na Recuperação!\")\n",
        "#--\n",
        "\n",
        "\n",
        "\n"
      ],
      "metadata": {
        "colab": {
          "base_uri": "https://localhost:8080/"
        },
        "id": "0Hzh5NliF29S",
        "outputId": "a13607f2-2e48-47aa-e45a-29730d3c0ba8"
      },
      "execution_count": 23,
      "outputs": [
        {
          "output_type": "stream",
          "name": "stdout",
          "text": [
            " Você está de Recuperação? Sim\n",
            " Insira sua nota: 5\n",
            "Digite sua nota de Recuperação: 5\n",
            "Você esta reprovado na Recuperação!\n"
          ]
        }
      ]
    },
    {
      "cell_type": "markdown",
      "source": [
        "**Calculando o desconto**\n",
        "\n",
        "Faça um código que calcule o desconto na compra do usuário baseado na quantidade de itens comprados na loja.\n",
        "\n",
        "* SE quantidade de produtos for 2, desconto aplicado sera de 2%;\n",
        "* SE quantidade de produtos for > 2 e <= 5, desconto aplicado sera de 5%;\n",
        "* SE quantidade de produtos for > 5 e < 10, desconto aplicado sera de 10%;\n",
        "* SE quantidade de produtos for >= 10, desconto aplicado sera de 15%;\n",
        "\n",
        "---\n",
        "\n",
        "lEIA AS INFORMAÇÕES:\n",
        "\n",
        "Deve receber dados float;\n",
        "Printar valor da compra com o desconto aplicado;\n",
        "Printar valor economizado na compra.\n",
        "\n",
        "let's GO!\n",
        "\n",
        "\n"
      ],
      "metadata": {
        "id": "1KUl4DlVKJUb"
      }
    },
    {
      "cell_type": "code",
      "source": [
        "quantidadeProdutos = float(input(\"Digite a quantidade de Produtos comprados: \"))\n",
        "totalCompra = float(input(\"Digite o valor da compra: \"))\n",
        "valorDesconto = 0\n",
        "\n",
        "\n",
        "if quantidadeProdutos <= 2:\n",
        "  valorDesconto = 0.02\n",
        "elif 2 < quantidadeProdutos <= 5:\n",
        "  valorDesconto = 0.05\n",
        "elif 5 < quantidadeProdutos < 10:\n",
        "  valorDesconto = 0.10\n",
        "elif quantidadeProdutos >= 10:\n",
        "  valorDesconto = 0.15\n",
        "#--\n",
        "\n",
        "valorComDesconto = totalCompra - (totalCompra * valorDesconto)\n",
        "valorEconomizado = totalCompra * valorDesconto\n",
        "mediaProdutos = valorComDesconto / quantidadeProdutos\n",
        "\n",
        "#--\n",
        "\n",
        "print(f'Você vai pagar com desconto o valor de ${valorComDesconto}')\n",
        "print(f'Você economizou ${valorEconomizado}')\n",
        "print(f'O valor médio pago em cada produto foi de ${mediaProdutos}')\n",
        "\n",
        "\n",
        "\n",
        "\n"
      ],
      "metadata": {
        "colab": {
          "base_uri": "https://localhost:8080/"
        },
        "id": "4z87zHUtLFaG",
        "outputId": "3b41818e-ee12-4aaa-c56d-57ab528f7187"
      },
      "execution_count": 56,
      "outputs": [
        {
          "output_type": "stream",
          "name": "stdout",
          "text": [
            "Digite a quantidade de Produtos comprados: 3\n",
            "Digite o valor da compra: 100\n",
            "Você vai pagar com desconto o valor de $95.0\n",
            "Você economizou $5.0\n",
            "O valor médio pago em cada produto foi de $31.666666666666668\n"
          ]
        }
      ]
    },
    {
      "cell_type": "markdown",
      "source": [
        "**Positivo ou Negativo**\n",
        "\n",
        "Receber 2 valores\n",
        "Imprimir se:\n",
        "\n",
        "* SE positivo\n",
        "* SE negativo\n",
        "* SE neutro"
      ],
      "metadata": {
        "id": "H_EkTz4WksQ4"
      }
    },
    {
      "cell_type": "code",
      "source": [
        "value = float(input(\"Digite um valor: \"))\n",
        "\n",
        "if value == 0:\n",
        "  print(f'O valor é neutro!')\n",
        "elif value > 0:\n",
        "  print(f'O valor {value} é Positivo!')\n",
        "elif value < 0:\n",
        "  print(f'O valor {value} é Negativo!')\n",
        "\n",
        "#--\n"
      ],
      "metadata": {
        "colab": {
          "base_uri": "https://localhost:8080/"
        },
        "id": "rHa1GUBEk_9O",
        "outputId": "58f2340e-8811-4771-9c5d-778c62f783dd"
      },
      "execution_count": 72,
      "outputs": [
        {
          "output_type": "stream",
          "name": "stdout",
          "text": [
            "Digite um valor: -987\n",
            "O valor -987.0 é Negativo!\n"
          ]
        }
      ]
    },
    {
      "cell_type": "markdown",
      "source": [
        "**Alistamento**\n",
        "\n",
        "* Leia o ano de nascimento do usuário;\n",
        "* SE maior de 18 anos; deve se alistar;\n",
        "* SE NÃO não se alistar;\n",
        "* Imprimir se o usuário está no ano de alistamento militar ou não;"
      ],
      "metadata": {
        "id": "WcKG0i19ny3n"
      }
    },
    {
      "cell_type": "code",
      "source": [
        "from datetime import date\n",
        "anoAtual = date.today().year\n",
        "\n",
        "anoNascimentoUsuário = int(input(\"Digite seu ano de nascimento: \"))\n",
        "idadeCandidato = anoAtual - anoNascimentoUsuário\n",
        "\n",
        "if  idadeCandidato >= 18:\n",
        "  print(f'Sua idade é: {idadeCandidato}, você já pode se Alistar no serviçpo militar obrigatório!')\n",
        "else:\n",
        "  print(f'Sua idade é: {idadeCandidato}, você ainda não pode se Alistar no serviçpo militar obrigatório!')\n",
        "\n",
        "#--\n",
        "\n"
      ],
      "metadata": {
        "colab": {
          "base_uri": "https://localhost:8080/"
        },
        "id": "EuRzhrbVplaG",
        "outputId": "079224c9-68b1-44ac-f990-1759fbf9bd3d"
      },
      "execution_count": 81,
      "outputs": [
        {
          "output_type": "stream",
          "name": "stdout",
          "text": [
            "Digite seu ano de nascimento: 2008\n",
            "Sua idade é: 16, você ainda não pode se Alistar no serviçpo militar obrigatório!\n"
          ]
        }
      ]
    },
    {
      "cell_type": "code",
      "source": [
        "valueOne = int(input(\"Digite o primeiro valor: \"))\n",
        "valueTwo = int(input(\"Digite o segundo valor: \"))\n",
        "\n",
        "if valueOne < valueTwo:\n",
        "  print(f'{valueOne}, {valueTwo}')\n",
        "else:\n",
        "  print(f'{valueTwo}, {valueOne}')"
      ],
      "metadata": {
        "colab": {
          "base_uri": "https://localhost:8080/"
        },
        "id": "xfVGAQjVrUQb",
        "outputId": "a841531d-a1a5-4408-d451-17e4ad3c885f"
      },
      "execution_count": 84,
      "outputs": [
        {
          "output_type": "stream",
          "name": "stdout",
          "text": [
            "Digite o primeiro valor: 90\n",
            "Digite o segundo valor: 50\n",
            "50, 90\n"
          ]
        }
      ]
    }
  ]
}