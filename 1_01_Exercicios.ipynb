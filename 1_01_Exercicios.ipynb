{
  "nbformat": 4,
  "nbformat_minor": 0,
  "metadata": {
    "colab": {
      "provenance": [],
      "authorship_tag": "ABX9TyOcs/vPSHTFwYG65dppi5YV",
      "include_colab_link": true
    },
    "kernelspec": {
      "name": "python3",
      "display_name": "Python 3"
    },
    "language_info": {
      "name": "python"
    }
  },
  "cells": [
    {
      "cell_type": "markdown",
      "metadata": {
        "id": "view-in-github",
        "colab_type": "text"
      },
      "source": [
        "<a href=\"https://colab.research.google.com/github/jacksondouglasdesouza/eia.ai/blob/master/1_01_Exercicios.ipynb\" target=\"_parent\"><img src=\"https://colab.research.google.com/assets/colab-badge.svg\" alt=\"Open In Colab\"/></a>"
      ]
    },
    {
      "cell_type": "markdown",
      "source": [
        "# **Faça um código que:**\n",
        "- Faça cotação de moedas estrangeiras\n",
        "- Receber o valor de moeda que o usuário deseja comprar\n",
        "- Ter uma variável interna de cotação do dia\n",
        "- Iprimir o valor a ser pago em moeda local\n",
        "- deve aceitar valores reais\n"
      ],
      "metadata": {
        "id": "WFBsQUZZESWh"
      }
    },
    {
      "cell_type": "code",
      "source": [
        "valor_user = float(input(\"Digite quanto deseja comprar: \"))\n",
        "#valor_user_float = float(valor_user)\n",
        "dolar = 5.60\n",
        "conversao = valor_user * dolar\n",
        "\n",
        "print(f'Para comprar USD {valor_user} você pagará R$ {conversao:.2f}')\n"
      ],
      "metadata": {
        "colab": {
          "base_uri": "https://localhost:8080/"
        },
        "id": "w-LudxqwE62y",
        "outputId": "89445114-85a4-497c-def3-b41f82b4a205"
      },
      "execution_count": 10,
      "outputs": [
        {
          "output_type": "stream",
          "name": "stdout",
          "text": [
            "Digite quanto deseja comprar: 100\n",
            "Para comprar USD 100.0 você pagará R$ 560.00\n"
          ]
        }
      ]
    },
    {
      "cell_type": "markdown",
      "source": [
        "# **Faça um código que:**\n",
        "- Recebe 1º valor inteiro\n",
        "- Recebe 2º valor inteiro\n",
        "- soma os valores\n",
        "- imprimir resultado"
      ],
      "metadata": {
        "id": "npQ9Y5yoHIay"
      }
    },
    {
      "cell_type": "code",
      "source": [
        "value_01 = int(input('Digite o primeiro valor: '))\n",
        "value_02 = int(input('Digite o segundo valor: '))\n",
        "soma = value_01 + value_02\n",
        "\n",
        "print(f'A soma de {value_01} + {value_02} é: {soma}')\n",
        "\n"
      ],
      "metadata": {
        "colab": {
          "base_uri": "https://localhost:8080/"
        },
        "id": "3nk04V27HbHk",
        "outputId": "caad141d-5e85-45c6-c322-8460f6b526bc"
      },
      "execution_count": 14,
      "outputs": [
        {
          "output_type": "stream",
          "name": "stdout",
          "text": [
            "Digite o primeiro valor: -1500\n",
            "Digite o segundo valor: 1300\n",
            "A soma de -1500 + 1300 é: -200\n"
          ]
        }
      ]
    },
    {
      "cell_type": "markdown",
      "source": [
        "# **Faça um código que:**\n",
        "- Recebar 2 valores em string\n",
        "- armazene em variavel A e B\n",
        "- imprimar os valores invertidos de b em a | A em B"
      ],
      "metadata": {
        "id": "m1vOnG0ZIHJz"
      }
    },
    {
      "cell_type": "code",
      "source": [
        "variavel_a = input('Digite um coisa qualquer: ')\n",
        "variavel_b = input('Digite outra coisa qualquer: ')\n",
        "print(f'A VARIÁVEL A VALE {variavel_a}')\n",
        "print(f'A VARIÁVEL B VALE {variavel_b}\\n')\n",
        "\n",
        "print(\"**************************\\n\")\n",
        "aux = variavel_b\n",
        "variavel_b = variavel_a\n",
        "variavel_a = aux\n",
        "\n",
        "print(f'A VARIÁVEL A AGORA VALE {variavel_a}')\n",
        "print(f'A VARIÁVEL B AGORA VALE {variavel_b}')\n",
        "\n",
        "print(\"\\n**************************\")\n",
        "\n"
      ],
      "metadata": {
        "colab": {
          "base_uri": "https://localhost:8080/"
        },
        "id": "QjQ2UeT6JM8F",
        "outputId": "0ff4a1dc-365e-4658-dc59-84f58aee23f7"
      },
      "execution_count": 21,
      "outputs": [
        {
          "output_type": "stream",
          "name": "stdout",
          "text": [
            "Digite um coisa qualquer: 1\n",
            "Digite outra coisa qualquer: 2\n",
            "A VARIÁVEL A VALE 1\n",
            "A VARIÁVEL B VALE 2\n",
            "\n",
            "**************************\n",
            "\n",
            "A VARIÁVEL A AGORA VALE 2\n",
            "A VARIÁVEL B AGORA VALE 1\n",
            "\n",
            "**************************\n"
          ]
        }
      ]
    },
    {
      "cell_type": "markdown",
      "source": [
        "# **Faça um código que:**\n",
        "- Receba um valor inteiro\n",
        "- Imprimar o antecessor do número recebido\n",
        "- Imprimar o sucessor do número recebido\n",
        "- Imprimar a potência do número recebido"
      ],
      "metadata": {
        "id": "HtPxBLIzL1lV"
      }
    },
    {
      "cell_type": "code",
      "source": [
        "value = int(input(\"Digite um número inteiro: \"))\n",
        "antecessor = value - 1\n",
        "sucessor = value + 1\n",
        "potencia = value ** 2\n",
        "#--\n",
        "print(f'O antecessor de {value} é {antecessor}')\n",
        "print(f'O sucessor de {value} é {sucessor}')\n",
        "print(f'A potência de {value} é {potencia}')\n"
      ],
      "metadata": {
        "colab": {
          "base_uri": "https://localhost:8080/"
        },
        "id": "by5fi-s7MF5_",
        "outputId": "1a706dd9-3791-4afb-e030-371b26df83e1"
      },
      "execution_count": 29,
      "outputs": [
        {
          "output_type": "stream",
          "name": "stdout",
          "text": [
            "Digite um número inteiro: 10\n",
            "O antecessor de 10 é 9\n",
            "O sucessor de 10 é 11\n",
            "A potência de 10 é 100\n"
          ]
        }
      ]
    },
    {
      "cell_type": "markdown",
      "source": [
        "# **Faça um código que:**\n",
        "- Receba a quantidade de alunos da escola\n",
        "- Receba a quantidade de alunos masculinos da escola\n",
        "- Deve imprimir a quantidade de alunos dos sexos:\n",
        "  - Masculino\n",
        "  - Feminino\n",
        "\n"
      ],
      "metadata": {
        "id": "nwkPgeheNlKM"
      }
    },
    {
      "cell_type": "code",
      "source": [
        "total_alunos = int(input('Digite a quantidade de Alunos da escola: '))\n",
        "alunos_masculinos = int(input('Digite a quantidade de Alunos Masculinos da escola: '))\n",
        "alunas_femininas = total_alunos - alunos_masculinos\n",
        "percentual_masculino = (alunos_masculinos * 100) / total_alunos\n",
        "percentual_feminino = (alunas_femininas * 100) / total_alunos\n",
        "\n",
        "print(f'\\nExistem {total_alunos} alunos na escola destes: \\n')\n",
        "print(f'-> {alunos_masculinos} são do sexo masculino')\n",
        "print(f'Eles representam um total de {percentual_masculino:.2f} % da escola\\n')\n",
        "print(\"------------------------------------------\")\n",
        "print(f'-> {alunas_femininas} são do sexo feminino')\n",
        "print(f'Elas representam um total de {percentual_feminino:.2f} % da escola\\n')\n",
        "print(\"------------------------------------------\")\n",
        "\n",
        "\n"
      ],
      "metadata": {
        "colab": {
          "base_uri": "https://localhost:8080/"
        },
        "id": "wBHZlWP-OKQI",
        "outputId": "94b9b182-91ad-4ebd-f690-4989128b1d54"
      },
      "execution_count": 36,
      "outputs": [
        {
          "output_type": "stream",
          "name": "stdout",
          "text": [
            "Digite a quantidade de Alunos da escola: 1000\n",
            "Digite a quantidade de Alunos Masculinos da escola: 500\n",
            "\n",
            "Existem 1000 alunos na escola destes: \n",
            "\n",
            "-> 500 são do sexo masculino\n",
            "Eles representam um total de 50.00 % da escola\n",
            "\n",
            "------------------------------------------\n",
            "-> 500 são do sexo feminino\n",
            "Elas representam um total de 50.00 % da escola\n",
            "\n",
            "------------------------------------------\n"
          ]
        }
      ]
    },
    {
      "cell_type": "markdown",
      "source": [
        "# **Faça um código que:**\n",
        "\n",
        "- Receba o valor para largura do retângulo\n",
        "- Receba o valor para altura do retângulo\n",
        "- Calcular e imprimir o valor da área do retângulo"
      ],
      "metadata": {
        "id": "i5vLI3QXSes7"
      }
    },
    {
      "cell_type": "code",
      "source": [
        "largura = float(input('Digite o valor da Largura em cm: '))\n",
        "altura = float(input('Digite o valor da Altura em cm: '))\n",
        "area = largura * altura\n",
        "\n",
        "print(f'A área do retângulo sera de {area}cm')"
      ],
      "metadata": {
        "colab": {
          "base_uri": "https://localhost:8080/"
        },
        "id": "Gott4i5yS0qG",
        "outputId": "fb4bd442-e571-4466-8832-7ebeb07f632a"
      },
      "execution_count": 40,
      "outputs": [
        {
          "output_type": "stream",
          "name": "stdout",
          "text": [
            "Digite o valor da Largura em cm: 10\n",
            "Digite o valor da Altura em cm: 5\n",
            "A área do retângulo sera de 50.0cm\n"
          ]
        }
      ]
    },
    {
      "cell_type": "markdown",
      "source": [
        "# **Faça um código que:**\n",
        "\n",
        "- receba 1º valor inteiro\n",
        "- receba 2º valor inteiro\n",
        "- imprima a soma deles\n",
        "- imprima o produto deles\n"
      ],
      "metadata": {
        "id": "LVV7dTNcTlYk"
      }
    },
    {
      "cell_type": "code",
      "source": [
        "value_a = int(input('Digite o primeiro valor inteiro: '))\n",
        "value_b = int(input('Digite o segundo valor inteiro: '))\n",
        "\n",
        "soma = value_a + value_b\n",
        "produto = value_a * value_b\n",
        "\n",
        "print(f'A soma dos valores é: {soma}')\n",
        "print(f'O produto dos valores é: {produto}')\n",
        "\n"
      ],
      "metadata": {
        "colab": {
          "base_uri": "https://localhost:8080/"
        },
        "id": "6wOFog2OTz8R",
        "outputId": "bf823d32-4704-4d8f-d150-e65b3ba8735e"
      },
      "execution_count": 42,
      "outputs": [
        {
          "output_type": "stream",
          "name": "stdout",
          "text": [
            "Digite o primeiro valor inteiro: 10\n",
            "Digite o segundo valor inteiro: 10\n",
            "A soma dos valores é: 20\n",
            "O produto dos valores é: 100\n"
          ]
        }
      ]
    },
    {
      "cell_type": "markdown",
      "source": [
        "# **Faça um código que:**\n",
        "\n",
        "- Receba o valor do salário do usuário\n",
        "- Receba o valor para um reajuste no salário do usuário\n",
        "- Imprimir o valor com reajuste do salário do usuário\n"
      ],
      "metadata": {
        "id": "DHiIbkqdUazR"
      }
    },
    {
      "cell_type": "code",
      "source": [
        "salario_user = float(input(\"Digite o valor de seu salário: \"))\n",
        "percentual_aumento = float(input(\"Digite o percentual de aumento: \"))\n",
        "salario_atualizado = (percentual_aumento * salario_user) / 100\n",
        "salario_reajustado = salario_atualizado + salario_user\n",
        "\n",
        "print(f'\\nO salário do Funcionário de de: R$ {salario_user:.2f}')\n",
        "print(f'O percentual de reajuste do salário foi de: {percentual_aumento:.2f} %')\n",
        "print(f\"O valor do Funcionário atualizado é de: R$ {salario_reajustado:.2f}\")\n"
      ],
      "metadata": {
        "colab": {
          "base_uri": "https://localhost:8080/"
        },
        "id": "ST_7oYoqU0fJ",
        "outputId": "2cd5f9e1-0fc1-454e-bc6b-bb1557e1d5e7"
      },
      "execution_count": 54,
      "outputs": [
        {
          "output_type": "stream",
          "name": "stdout",
          "text": [
            "Digite o valor de seu salário: 1500\n",
            "Digite o percentual de aumento: 50\n",
            "\n",
            "O salário do Funcionário de de: R$ 1500.00\n",
            "O percentual de reajuste do salário foi de: 50.00 %\n",
            "O valor do Funcionário atualizado é de: R$ 2250.00\n"
          ]
        }
      ]
    },
    {
      "cell_type": "markdown",
      "source": [
        "# **Faça um código que:**\n",
        "\n",
        "- Receba o salário Anual do Colaborador\n",
        "- Imprima quanto ele irá receber por mês\n"
      ],
      "metadata": {
        "id": "p9gbhFXOXrqA"
      }
    },
    {
      "cell_type": "code",
      "source": [
        "salario_anual = float(input('Digite o salário que irá receber anual: '))\n",
        "salario_mensal = salario_anual / 12\n",
        "print(\"\\n**************************************\")\n",
        "print(f'Com o salário Anual de R$ {salario_anual:,.2f}')\n",
        "print(f'Você irá receber R$ {salario_mensal:,} por mês.')"
      ],
      "metadata": {
        "colab": {
          "base_uri": "https://localhost:8080/"
        },
        "id": "U0yKDzKCX5KL",
        "outputId": "30673f63-995b-43fa-e135-d0eea896320d"
      },
      "execution_count": 73,
      "outputs": [
        {
          "output_type": "stream",
          "name": "stdout",
          "text": [
            "Digite o salário que irá receber anual: 120050.85\n",
            "\n",
            "**************************************\n",
            "Com o salário Anual de R$ 120,050.85\n",
            "Você irá receber R$ 10,004.237500000001 por mês.\n"
          ]
        }
      ]
    },
    {
      "cell_type": "markdown",
      "source": [
        "# **Faça um código que:**\n",
        "\n",
        "- Receba o valor recebido do cliente pela manutenção do veículo\n",
        "- Receba o valor percentual de imposto de serviços a pagar para prefeitura\n",
        "- Receba o valor percentual de imposto de produtos a pagar para prefeitura\n",
        "- Imprima o lucro após pagamentos dos impostos\n",
        "\n"
      ],
      "metadata": {
        "id": "jJzJAaUiaZdH"
      }
    },
    {
      "cell_type": "code",
      "source": [
        "valor_recebido = float(input(\"Digite quanto você recebveu do seu cliente: \"))\n",
        "imposto_servicos = float(input('Imposto a pagar para prefeitura pelo serviço: '))\n",
        "imposto_produto = float(input('Imposto a pagar para prefeitura pelo produto: '))\n",
        "pago_servicos = (imposto_servicos * valor_recebido) / 100\n",
        "pago_produto = (imposto_produto * valor_recebido) / 100\n",
        "total_imposto = pago_servicos + pago_produto\n",
        "saldo = valor_recebido - total_imposto\n",
        "\n",
        "print(f'O saldo na conta da empresa é de: R$ {saldo}')\n"
      ],
      "metadata": {
        "colab": {
          "base_uri": "https://localhost:8080/"
        },
        "id": "FH2NzafibBds",
        "outputId": "c0cb726d-cea8-40d1-e00e-edb65e6b051c"
      },
      "execution_count": 78,
      "outputs": [
        {
          "output_type": "stream",
          "name": "stdout",
          "text": [
            "Digite quanto você recebveu do seu cliente: 1000\n",
            "Imposto a pagar para prefeitura pelo serviço: 5\n",
            "Imposto a pagar para prefeitura pelo produto: 10\n",
            "O saldo na conta da empresa é de: R$ 850.0\n"
          ]
        }
      ]
    }
  ]
}