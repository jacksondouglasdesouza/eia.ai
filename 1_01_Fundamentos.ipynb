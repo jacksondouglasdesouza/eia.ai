{
  "nbformat": 4,
  "nbformat_minor": 0,
  "metadata": {
    "colab": {
      "provenance": [],
      "authorship_tag": "ABX9TyPulDePZVwPrn8QZ7a4uzYe",
      "include_colab_link": true
    },
    "kernelspec": {
      "name": "python3",
      "display_name": "Python 3"
    },
    "language_info": {
      "name": "python"
    }
  },
  "cells": [
    {
      "cell_type": "markdown",
      "metadata": {
        "id": "view-in-github",
        "colab_type": "text"
      },
      "source": [
        "<a href=\"https://colab.research.google.com/github/jacksondouglasdesouza/eia.ai/blob/master/1_01_Fundamentos.ipynb\" target=\"_parent\"><img src=\"https://colab.research.google.com/assets/colab-badge.svg\" alt=\"Open In Colab\"/></a>"
      ]
    },
    {
      "cell_type": "markdown",
      "source": [
        "# **Variáveis**\n",
        "O que são as variáveis na programação?\n",
        "Variável é o nome utilizado para definir um ou mais valores que são manipulados pelos programas durante a sua operação. O nome “variável” é utilizado por ser um tipo de conteúdo que pode apresentar diferentes valores enquanto o sistema está em execução. Tudo dependerá do comando do usuário e o tipo de operação que é realizado."
      ],
      "metadata": {
        "id": "lT6W7NtuQL6I"
      }
    },
    {
      "cell_type": "code",
      "source": [
        "#Nome NOME nome  <<-- SÃO TRÊS VARIÁVEIS DIFERENTES\n",
        "NOME = 'Nome A'\n",
        "Nome = 'Nome B'\n",
        "nome = 'Nome C'\n",
        "#Não pode iniciar com números nem com carácteres especiais com excessão do _ .\n",
        "\n",
        "print(NOME)\n",
        "print(Nome)\n",
        "print(nome)\n",
        "\n",
        "# Atribuindo outro valor a variável\n",
        "\n",
        "NOME = 'Nome A - 002'\n",
        "Nome = 'Nome B - 002'\n",
        "nome = 'Nome C - 002'\n",
        "\n",
        "# Vai imprimir os novos valores da variável.\n",
        "\n",
        "print(20 * \"*\")\n",
        "print(NOME)\n",
        "print(Nome)\n",
        "print(nome)\n",
        "print(20 * \"*\")\n",
        "\n",
        "\n"
      ],
      "metadata": {
        "colab": {
          "base_uri": "https://localhost:8080/"
        },
        "id": "p5X3dC31QPdV",
        "outputId": "6f877088-1f93-43e4-93f7-bca3c010dbc9"
      },
      "execution_count": 4,
      "outputs": [
        {
          "output_type": "stream",
          "name": "stdout",
          "text": [
            "Nome A\n",
            "Nome B\n",
            "Nome C\n",
            "********************\n",
            "Nome A - 002\n",
            "Nome B - 002\n",
            "Nome C - 002\n",
            "********************\n"
          ]
        }
      ]
    },
    {
      "cell_type": "code",
      "source": [
        "# Pode usar \" \" Aspas duplas e ' ' Aspas simples.\n",
        "print(20 * \"*\")\n",
        "\n",
        "aspas_simples = 'Essa é uma string com aspas simples'\n",
        "aspas_duplas= \"Essa é uma string com aspas duplas\"\n",
        "\n",
        "print(aspas_simples)\n",
        "print(' ')\n",
        "print(aspas_duplas)\n",
        "\n",
        "print(20 * \"*\")"
      ],
      "metadata": {
        "colab": {
          "base_uri": "https://localhost:8080/"
        },
        "id": "sJf4yAT3SBZr",
        "outputId": "d9aedcae-0d52-4966-ac8c-2b9096ccdecd"
      },
      "execution_count": 7,
      "outputs": [
        {
          "output_type": "stream",
          "name": "stdout",
          "text": [
            "********************\n",
            "Essa é uma string com aspas simples\n",
            " \n",
            "Essa é uma string com aspas duplas\n",
            "********************\n"
          ]
        }
      ]
    },
    {
      "cell_type": "code",
      "source": [
        "# Tipos Primitivos\n",
        "\n",
        "nome = 'Dormin' #string\n",
        "idade = 37 #int\n",
        "altura = 1.92 #float\n",
        "humano = True #bool\n",
        "\n",
        "print(type(nome))\n",
        "print(type(idade))\n",
        "print(type(altura))\n",
        "print(type(humano))"
      ],
      "metadata": {
        "colab": {
          "base_uri": "https://localhost:8080/"
        },
        "id": "u1K1WRfeSvZz",
        "outputId": "9e560518-d441-4269-9d0a-faaae013c132"
      },
      "execution_count": 10,
      "outputs": [
        {
          "output_type": "stream",
          "name": "stdout",
          "text": [
            "<class 'str'>\n",
            "<class 'int'>\n",
            "<class 'float'>\n",
            "<class 'bool'>\n"
          ]
        }
      ]
    },
    {
      "cell_type": "markdown",
      "source": [
        "## **ATIVIDADE 2**\n",
        "\n",
        "Crie variáveis e acrescente a elas valores do tipo primitivo, em seguida apresente elas no console:"
      ],
      "metadata": {
        "id": "A4mr58kGV32h"
      }
    },
    {
      "cell_type": "code",
      "source": [
        "nome = 'Jackson'\n",
        "sobrenome = 'Douglas de Souza'\n",
        "cpf = '111.111.111-11'\n",
        "data_nascimento = \"11/11/11\"\n",
        "ano_nascimento = 1986\n",
        "ano_atual = 2023\n",
        "idade = ano_atual - ano_nascimento\n",
        "altura = 1.90\n",
        "peso = 101\n",
        "imc = peso / (altura ** 2)\n",
        "\n",
        "print(f'O seu nome é {nome} e seu sobrenome é {sobrenome}')\n",
        "print(f'O seu CPF é {cpf}')\n",
        "print(f'Você nasceu em {data_nascimento}')\n",
        "print(f'A sua idade é {idade}')\n",
        "print(f'A sua altura é {altura:.2f}')\n",
        "print(f'O seu peso é {peso}')\n",
        "print(f'E o seu IMC é {imc:.2f}')"
      ],
      "metadata": {
        "colab": {
          "base_uri": "https://localhost:8080/"
        },
        "id": "bOe8LmNpT7_X",
        "outputId": "9f6792e1-d92c-484d-8039-59c92ee4a4a7"
      },
      "execution_count": 14,
      "outputs": [
        {
          "output_type": "stream",
          "name": "stdout",
          "text": [
            "O seu nome é Jackson e seu sobrenome é Douglas de Souza\n",
            "O seu CPF é 111.111.111-11\n",
            "Você nasceu em 11/11/11\n",
            "A sua idade é 37\n",
            "A sua altura é 1.90\n",
            "O seu peso é 101\n",
            "E o seu IMC é 27.98\n"
          ]
        }
      ]
    },
    {
      "cell_type": "markdown",
      "source": [
        "# **⏰**"
      ],
      "metadata": {
        "id": "E31GAJnmWvs9"
      }
    },
    {
      "cell_type": "code",
      "source": [
        "# %s Formatação para texto\n",
        "# %d Formatação para Inteiro\n",
        "# %f Formatação para Float\n",
        "# VAI GERAR STRING\n",
        "\n",
        "nome001 = \"Carol\"\n",
        "nome_gigante = 'Gigantão'\n",
        "idade = 450\n",
        "altura = 3.89\n",
        "\n",
        "texto_formatado = \"O nome dela é %s\" % (nome001)\n",
        "print(texto_formatado)\n",
        "\n",
        "texto_editado = 'Sou gigante, meu nome é %s tenho %d anos de idade e sou muito alto, com aproximadamente %.2f metros' % (nome_gigante,idade, altura)\n",
        "\n",
        "print(texto_editado)\n",
        "\n",
        "verdade = True\n",
        "mentira = False\n",
        "\n",
        "print(\"A história e verdade [ %s ], ele foi vítima? [ %s ]\" % (verdade, mentira))\n",
        "\n",
        "#parte inteira de ponto flutuante\n",
        "\n",
        "numero_real = 3850.7894562357896541052156\n",
        "\n",
        "print(\"O numero decimal do float é %d\" % (numero_real))\n"
      ],
      "metadata": {
        "colab": {
          "base_uri": "https://localhost:8080/"
        },
        "id": "zfj9IM5jWR92",
        "outputId": "7028c9c9-e0de-426e-f0d6-85d7adca1ae3"
      },
      "execution_count": 28,
      "outputs": [
        {
          "output_type": "stream",
          "name": "stdout",
          "text": [
            "O nome dela é Carol\n",
            "Sou gigante, meu nome é Gigantão tenho 450 anos de idade e sou muito alto, com aproximadamente 3.89 metros\n",
            "A história e verdade [ True ], ele foi vítima? [ False ]\n",
            "O numero decimal do float é 3850\n"
          ]
        }
      ]
    }
  ]
}