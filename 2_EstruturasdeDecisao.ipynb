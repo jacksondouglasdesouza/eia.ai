{
  "nbformat": 4,
  "nbformat_minor": 0,
  "metadata": {
    "colab": {
      "provenance": [],
      "authorship_tag": "ABX9TyNpW887kcxADDAfnQ0Npwax",
      "include_colab_link": true
    },
    "kernelspec": {
      "name": "python3",
      "display_name": "Python 3"
    },
    "language_info": {
      "name": "python"
    }
  },
  "cells": [
    {
      "cell_type": "markdown",
      "metadata": {
        "id": "view-in-github",
        "colab_type": "text"
      },
      "source": [
        "<a href=\"https://colab.research.google.com/github/jacksondouglasdesouza/eia.ai/blob/master/2_EstruturasdeDecisao.ipynb\" target=\"_parent\"><img src=\"https://colab.research.google.com/assets/colab-badge.svg\" alt=\"Open In Colab\"/></a>"
      ]
    },
    {
      "cell_type": "markdown",
      "source": [
        "# **Entrar na Faculdade: **\n",
        "\n",
        "1 - Ler:\n",
        "  Idade - int\n",
        "  Nota do Enem - flo\n",
        "  Brasileiro - boo\n",
        "\n",
        "2 - Checar:\n",
        "  Menos de 25 anos?\n",
        "  Nota mínima do Enem 70?\n",
        "  é BR?\n",
        "\n",
        "3 - Deve informar se foi ou não aprovado na faculdade!\n",
        "\n",
        "\n",
        "\n"
      ],
      "metadata": {
        "id": "hqMcka62rT4K"
      }
    },
    {
      "cell_type": "code",
      "source": [
        "idade = int(input(\"Digite sua idade: \"))\n",
        "nota_enem = float(input(\"Qual sua nota do Enem: \"))\n",
        "brasileiro = ...\n",
        "nacionalidade = input(\"Você é Brasileiro: [ S ] ou [ N ]\")\n",
        "\n",
        "if nacionalidade == 'S' or nacionalidade == 's':\n",
        "  brasileiro = True\n",
        "else:\n",
        "  brasileiro = False\n",
        "#--\n",
        "\n",
        "\n",
        "if (idade < 25) and (nota_enem >= 70) and brasileiro:\n",
        "  print(\"Você está aprovado na Faculdade!\")\n",
        "else:\n",
        "  print(\"Você está reprovado!\")\n",
        "#--\n",
        "\n"
      ],
      "metadata": {
        "colab": {
          "base_uri": "https://localhost:8080/"
        },
        "id": "7knmbn-UsfrV",
        "outputId": "97fadd8e-84b5-4ca1-877f-51f3b4125d46"
      },
      "execution_count": 31,
      "outputs": [
        {
          "output_type": "stream",
          "name": "stdout",
          "text": [
            "Digite sua idade: 18\n",
            "Qual sua nota do Enem: 80\n",
            "Você é Brasileiro: [ S ] ou [ N ]Sim\n",
            "Você está reprovado!\n"
          ]
        }
      ]
    },
    {
      "cell_type": "markdown",
      "source": [
        "## **Defina o Conceito do Aluno: **\n",
        "\n",
        "* Se nota > 90 = Conceito A\n",
        "* Se nota >= 75 e <= 90 = Conceito B\n",
        "* Se nota >= 60 e < 75 = Conceito C\n",
        "* Se nota >= 40 e < 60 = Conceito D\n",
        "* Se nota >= 20 e < 40 = Conceito E\n",
        "* Se nota < 20 = Conceito F"
      ],
      "metadata": {
        "id": "3yPvvLWoxbrv"
      }
    },
    {
      "cell_type": "code",
      "source": [
        "nota_aluno = float(input('Digite sua nota: '))\n",
        "\n",
        "if nota_aluno > 90 and nota_aluno <= 100:\n",
        "  print('Parabéns você é conceito A')\n",
        "elif nota_aluno >= 75 and nota_aluno <= 90:\n",
        "  print('Parabéns você é conceito B')\n",
        "elif nota_aluno >= 60 and nota_aluno < 75:\n",
        "  print('Parabéns você é conceito C')\n",
        "elif nota_aluno >= 40 and nota_aluno < 60:\n",
        "  print('Parabéns você é conceito D')\n",
        "elif nota_aluno >= 20 and nota_aluno < 40:\n",
        "  print('Você é conceito E - Precisa estudar mais!')\n",
        "elif nota_aluno >= 0 and nota_aluno < 20:\n",
        "  print('Você é conceito F - Precisa estudar mais!')\n",
        "else:\n",
        "  print('Nota inserida inválida!')\n",
        "#--\n",
        "\n"
      ],
      "metadata": {
        "colab": {
          "base_uri": "https://localhost:8080/"
        },
        "id": "j4K272unyfEp",
        "outputId": "b984efef-5ab3-4823-9e13-ac620300c89d"
      },
      "execution_count": 67,
      "outputs": [
        {
          "output_type": "stream",
          "name": "stdout",
          "text": [
            "Digite sua nota: 89.9999999999999999\n",
            "Parabéns você é conceito B\n"
          ]
        }
      ]
    }
  ]
}